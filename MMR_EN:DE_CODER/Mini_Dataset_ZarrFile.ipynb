{
  "nbformat": 4,
  "nbformat_minor": 0,
  "metadata": {
    "colab": {
      "provenance": []
    },
    "kernelspec": {
      "name": "python3",
      "display_name": "Python 3"
    },
    "language_info": {
      "name": "python"
    }
  },
  "cells": [
    {
      "cell_type": "code",
      "execution_count": null,
      "metadata": {
        "id": "cbBM7hiaNwlk"
      },
      "outputs": [],
      "source": [
        "import os, glob, zipfile\n",
        "\n",
        "# add Mount M\n",
        "\n",
        "from google.colab import drive\n",
        "drive.mount('/content/drive')\n",
        "\n",
        "\n",
        "ROOT_DRIVE = \"/content/drive/MyDrive/Seg_Dataset\"\n",
        "OUT_LOCAL  = \"/content\"   # write result zips to local\n",
        "N, M = 10, 2               # choose how many video zips to include\n",
        "\n",
        "train_zips = sorted(glob.glob(os.path.join(ROOT_DRIVE,\"Train\",\"*.zip\")))[:N]\n",
        "test_zips  = sorted(glob.glob(os.path.join(ROOT_DRIVE,\"Test\",\"*.zip\")))[:M]\n",
        "\n",
        "TRAIN_MINI_ZIP = f\"{OUT_LOCAL}/SAR_RARP50_TRAIN_MINI_{N}.zip\"\n",
        "TEST_MINI_ZIP  = f\"{OUT_LOCAL}/SAR_RARP50_TEST_MINI_{M}.zip\"\n",
        "\n",
        "def make_master(zip_list, dest):\n",
        "    if os.path.exists(dest): os.remove(dest)\n",
        "    with zipfile.ZipFile(dest, \"w\", compression=zipfile.ZIP_STORED, allowZip64=True) as zf:\n",
        "        for p in zip_list:\n",
        "            zf.write(p, arcname=os.path.basename(p))\n",
        "\n",
        "make_master(train_zips, TRAIN_MINI_ZIP)\n",
        "make_master(test_zips,  TEST_MINI_ZIP)\n",
        "\n",
        "print(\"Created local zips:\")\n",
        "!ls -lh \"$TRAIN_MINI_ZIP\" \"$TEST_MINI_ZIP\"\n",
        "\n"
      ]
    },
    {
      "cell_type": "code",
      "source": [
        "%%bash\n",
        "set -e\n",
        "TRAIN_MINI_ZIP=\"/content/SAR_RARP50_TRAIN_MINI_10.zip\"\n",
        "TEST_MINI_ZIP=\"/content/SAR_RARP50_TEST_MINI_2.zip\"\n",
        "OUT_TRAIN=\"/content/STSeg_train_10\"\n",
        "OUT_TEST=\"/content/STSeg_test_2\"\n",
        "N_CLASSES=9\n",
        "PATCH=\"[512,640]\"\n",
        "\n",
        "rm -rf \"$OUT_TRAIN\" \"$OUT_TEST\"\n",
        "mkdir -p \"$OUT_TRAIN\" \"$OUT_TEST\"\n",
        "\n",
        "echo \"[1/2] Converting TRAIN (10 videos) to Zarr...\"\n",
        "time stseg_create_dataset \"$TRAIN_MINI_ZIP\" \"$OUT_TRAIN\" $N_CLASSES \"$PATCH\"\n",
        "\n",
        "echo \"[2/2] Converting TEST (2 videos) to Zarr...\"\n",
        "time stseg_create_dataset \"$TEST_MINI_ZIP\" \"$OUT_TEST\"  $N_CLASSES \"$PATCH\"\n",
        "\n",
        "echo\n",
        "echo \"[TRAIN Zarrs]\"\n",
        "ls -lh \"$OUT_TRAIN/data\" | sed -n '1,10p'\n",
        "echo\n",
        "echo \"[TEST Zarrs]\"\n",
        "ls -lh \"$OUT_TEST/data\"  | sed -n '1,10p'\n"
      ],
      "metadata": {
        "id": "6zAgr2TDN1mE"
      },
      "execution_count": null,
      "outputs": []
    },
    {
      "cell_type": "code",
      "source": [
        "import os, glob, json\n",
        "\n",
        "DS = \"/content/STSeg_train_10\"\n",
        "z = sorted(glob.glob(os.path.join(DS,\"data\",\"*.zarr\")))\n",
        "assert len(z) == 10, f\"Expected 10 Zarrs, got {len(z)}\"\n",
        "ids = [os.path.splitext(os.path.basename(p))[0] for p in z]\n",
        "\n",
        "split = {\n",
        "  \"train\": ids[:8],\n",
        "  \"val\":   ids[8:],\n",
        "  \"test\":  []\n",
        "}\n",
        "sp = os.path.join(DS, \"splits_train_val_test.json\")\n",
        "with open(sp, \"w\") as f: json.dump(split, f, indent=2)\n",
        "print(\"Wrote:\", sp)\n",
        "print(open(sp).read())\n"
      ],
      "metadata": {
        "id": "rtB902d7N6iY"
      },
      "execution_count": null,
      "outputs": []
    },
    {
      "cell_type": "code",
      "source": [],
      "metadata": {
        "id": "gcJCilwEN9fk"
      },
      "execution_count": null,
      "outputs": []
    }
  ]
}